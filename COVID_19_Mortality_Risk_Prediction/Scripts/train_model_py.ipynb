{
  "nbformat": 4,
  "nbformat_minor": 0,
  "metadata": {
    "colab": {
      "provenance": []
    },
    "kernelspec": {
      "name": "python3",
      "display_name": "Python 3"
    },
    "language_info": {
      "name": "python"
    }
  },
  "cells": [
    {
      "cell_type": "code",
      "metadata": {
        "colab": {
          "base_uri": "https://localhost:8080/"
        },
        "id": "d82a0d24",
        "outputId": "f3c266e6-9c7a-4b73-d6ae-429f8b481a2b"
      },
      "source": [
        "from sklearn.linear_model import LogisticRegression\n",
        "from sklearn.model_selection import train_test_split\n",
        "from sklearn.preprocessing import StandardScaler\n",
        "from sklearn.metrics import accuracy_score, classification_report\n",
        "\n",
        "file_path = '/content/Covid Data.csv'\n",
        "df = preprocess_data(file_path)\n",
        "\n",
        "# Create the target variable 'DIED' based on 'DATE_DIED'\n",
        "df['DIED'] = (df['DATE_DIED'] != '9999-99-99').astype(int)\n",
        "\n",
        "# Drop the original 'DATE_DIED' column as it's no longer needed\n",
        "df = df.drop(columns=['DATE_DIED'])\n",
        "\n",
        "X = df.drop(columns=['DIED'])\n",
        "y = df['DIED']\n",
        "X_train, X_test, y_train, y_test = train_test_split(X, y, test_size=0.2, random_state=42)\n",
        "\n",
        "scaler = StandardScaler()\n",
        "X_train = scaler.fit_transform(X_train)\n",
        "X_test = scaler.transform(X_test)\n",
        "\n",
        "model = LogisticRegression(max_iter=1000)\n",
        "model.fit(X_train, y_train)\n",
        "y_pred = model.predict(X_test)\n",
        "\n",
        "print(\"Accuracy:\", accuracy_score(y_test, y_pred))\n",
        "print(classification_report(y_test, y_pred))"
      ],
      "execution_count": 13,
      "outputs": [
        {
          "output_type": "stream",
          "name": "stdout",
          "text": [
            "Accuracy: 0.935998855589729\n",
            "              precision    recall  f1-score   support\n",
            "\n",
            "           0       0.95      0.98      0.97    194475\n",
            "           1       0.59      0.39      0.47     15240\n",
            "\n",
            "    accuracy                           0.94    209715\n",
            "   macro avg       0.77      0.68      0.72    209715\n",
            "weighted avg       0.93      0.94      0.93    209715\n",
            "\n"
          ]
        }
      ]
    },
    {
      "cell_type": "code",
      "source": [],
      "metadata": {
        "id": "oHy3fqPHVi4S"
      },
      "execution_count": null,
      "outputs": []
    }
  ]
}